{
 "cells": [
  {
   "cell_type": "markdown",
   "metadata": {},
   "source": [
    "# This is my first class\n",
    "# Week 1 3/4/2019"
   ]
  },
  {
   "cell_type": "markdown",
   "metadata": {},
   "source": [
    "# Class 1"
   ]
  },
  {
   "cell_type": "code",
   "execution_count": 1,
   "metadata": {},
   "outputs": [
    {
     "name": "stdout",
     "output_type": "stream",
     "text": [
      "Hellow World\n"
     ]
    }
   ],
   "source": [
    "print (\"Hellow World\")"
   ]
  },
  {
   "cell_type": "code",
   "execution_count": 2,
   "metadata": {},
   "outputs": [
    {
     "name": "stdout",
     "output_type": "stream",
     "text": [
      "Hello again!\n"
     ]
    }
   ],
   "source": [
    "print ('Hello again!')"
   ]
  },
  {
   "cell_type": "code",
   "execution_count": 3,
   "metadata": {},
   "outputs": [
    {
     "ename": "SyntaxError",
     "evalue": "invalid syntax (<ipython-input-3-d5cc06d13275>, line 1)",
     "output_type": "error",
     "traceback": [
      "\u001b[1;36m  File \u001b[1;32m\"<ipython-input-3-d5cc06d13275>\"\u001b[1;36m, line \u001b[1;32m1\u001b[0m\n\u001b[1;33m    print ('I don't like this')\u001b[0m\n\u001b[1;37m                  ^\u001b[0m\n\u001b[1;31mSyntaxError\u001b[0m\u001b[1;31m:\u001b[0m invalid syntax\n"
     ]
    }
   ],
   "source": [
    "print ('I don't like this')"
   ]
  },
  {
   "cell_type": "markdown",
   "metadata": {},
   "source": [
    "# Math Functions\n",
    "** Let's start with addition, substraction "
   ]
  },
  {
   "cell_type": "code",
   "execution_count": 4,
   "metadata": {},
   "outputs": [
    {
     "data": {
      "text/plain": [
       "5"
      ]
     },
     "execution_count": 4,
     "metadata": {},
     "output_type": "execute_result"
    }
   ],
   "source": [
    "2+3"
   ]
  },
  {
   "cell_type": "code",
   "execution_count": 5,
   "metadata": {},
   "outputs": [
    {
     "name": "stdout",
     "output_type": "stream",
     "text": [
      "5\n"
     ]
    }
   ],
   "source": [
    "a=2\n",
    "b=3\n",
    "c=a+b\n",
    "print (c)"
   ]
  },
  {
   "cell_type": "code",
   "execution_count": 6,
   "metadata": {},
   "outputs": [
    {
     "data": {
      "text/plain": [
       "6"
      ]
     },
     "execution_count": 6,
     "metadata": {},
     "output_type": "execute_result"
    }
   ],
   "source": [
    "c=a*b\n",
    "c"
   ]
  },
  {
   "cell_type": "code",
   "execution_count": 7,
   "metadata": {},
   "outputs": [
    {
     "name": "stdout",
     "output_type": "stream",
     "text": [
      "The sum of a and b is c 2 3 6\n"
     ]
    }
   ],
   "source": [
    "print (\"The sum of a and b is c\", a,b,c)"
   ]
  },
  {
   "cell_type": "code",
   "execution_count": 8,
   "metadata": {},
   "outputs": [
    {
     "name": "stdout",
     "output_type": "stream",
     "text": [
      "The sum of  2 and  3 is  6\n"
     ]
    }
   ],
   "source": [
    "print (\"The sum of \",a,\"and \",b,\"is \",c)"
   ]
  },
  {
   "cell_type": "markdown",
   "metadata": {},
   "source": [
    "# HW Print all the 4, but only use 2 variables\n",
    "The sum of 2 and 4 is 6"
   ]
  },
  {
   "cell_type": "code",
   "execution_count": 40,
   "metadata": {},
   "outputs": [],
   "source": [
    "a=2\n",
    "b=4"
   ]
  },
  {
   "cell_type": "code",
   "execution_count": 41,
   "metadata": {},
   "outputs": [
    {
     "name": "stdout",
     "output_type": "stream",
     "text": [
      "The addition of 2 and 4 is 6\n"
     ]
    }
   ],
   "source": [
    "print (\"The addition of\",2,\"and\",4,\"is\",a+b)\n"
   ]
  },
  {
   "cell_type": "code",
   "execution_count": 42,
   "metadata": {},
   "outputs": [
    {
     "name": "stdout",
     "output_type": "stream",
     "text": [
      "The subtraction of 2 and 4 is -2\n"
     ]
    }
   ],
   "source": [
    "print (\"The subtraction of\",2,\"and\",4,\"is\",a-b)\n"
   ]
  },
  {
   "cell_type": "code",
   "execution_count": 43,
   "metadata": {},
   "outputs": [
    {
     "name": "stdout",
     "output_type": "stream",
     "text": [
      "The multi of 2 and 4 is 8\n"
     ]
    }
   ],
   "source": [
    "print (\"The multi of\",2,\"and\",4,\"is\",a*b)\n"
   ]
  },
  {
   "cell_type": "code",
   "execution_count": 44,
   "metadata": {},
   "outputs": [
    {
     "name": "stdout",
     "output_type": "stream",
     "text": [
      "The divi of 2 and 4 is 0.5\n"
     ]
    }
   ],
   "source": [
    "print (\"The divi of\",2,\"and\",4,\"is\",a/b)\n"
   ]
  },
  {
   "cell_type": "markdown",
   "metadata": {},
   "source": [
    "# Class 2"
   ]
  },
  {
   "cell_type": "code",
   "execution_count": 9,
   "metadata": {},
   "outputs": [],
   "source": [
    "my_name = \"RS\"\n",
    "my_age = 45\n",
    "my_weight = 190\n",
    "my_height = 172.72\n",
    "my_hair_color = \"black\"\n",
    "my_eye_color = \"black\"\n",
    "my_wt_kg=my_weight*0.453592\n",
    "my_BMI=my_wt_kg/((my_height/100)**2)"
   ]
  },
  {
   "cell_type": "code",
   "execution_count": null,
   "metadata": {},
   "outputs": [],
   "source": []
  },
  {
   "cell_type": "code",
   "execution_count": null,
   "metadata": {},
   "outputs": [],
   "source": []
  },
  {
   "cell_type": "code",
   "execution_count": 10,
   "metadata": {},
   "outputs": [
    {
     "name": "stdout",
     "output_type": "stream",
     "text": [
      "My name is RS\n"
     ]
    }
   ],
   "source": [
    "print (\"My name is\",my_name)"
   ]
  },
  {
   "cell_type": "code",
   "execution_count": 11,
   "metadata": {},
   "outputs": [
    {
     "name": "stdout",
     "output_type": "stream",
     "text": [
      "He's 172.72 meters tall. and he weighs 190\n"
     ]
    }
   ],
   "source": [
    "print (f\"He's {my_height} meters tall. and he weighs {my_weight}\")"
   ]
  },
  {
   "cell_type": "code",
   "execution_count": 12,
   "metadata": {},
   "outputs": [
    {
     "name": "stdout",
     "output_type": "stream",
     "text": [
      "My BMI is 28.88908113456365 \n"
     ]
    }
   ],
   "source": [
    "print (f\"My BMI is {my_BMI} \")"
   ]
  },
  {
   "cell_type": "code",
   "execution_count": 13,
   "metadata": {},
   "outputs": [
    {
     "name": "stdout",
     "output_type": "stream",
     "text": [
      "I want to show my BMI in two decimal places 28.89 \n"
     ]
    }
   ],
   "source": [
    "print (f\"I want to show my BMI in two decimal places {round(my_BMI,2)} \")"
   ]
  },
  {
   "cell_type": "code",
   "execution_count": 14,
   "metadata": {},
   "outputs": [
    {
     "name": "stdout",
     "output_type": "stream",
     "text": [
      "I am not happy, I want to square roots my BMI, how do I do that?\n"
     ]
    }
   ],
   "source": [
    "print (\"I am not happy, I want to square roots my BMI, how do I do that?\")"
   ]
  },
  {
   "cell_type": "code",
   "execution_count": 15,
   "metadata": {},
   "outputs": [
    {
     "ename": "NameError",
     "evalue": "name 'sqrt' is not defined",
     "output_type": "error",
     "traceback": [
      "\u001b[1;31m---------------------------------------------------------------------------\u001b[0m",
      "\u001b[1;31mNameError\u001b[0m                                 Traceback (most recent call last)",
      "\u001b[1;32m<ipython-input-15-98da72358e2c>\u001b[0m in \u001b[0;36m<module>\u001b[1;34m()\u001b[0m\n\u001b[1;32m----> 1\u001b[1;33m \u001b[0msqrt\u001b[0m\u001b[1;33m(\u001b[0m\u001b[0mmy_BMI\u001b[0m\u001b[1;33m)\u001b[0m\u001b[1;33m\u001b[0m\u001b[0m\n\u001b[0m",
      "\u001b[1;31mNameError\u001b[0m: name 'sqrt' is not defined"
     ]
    }
   ],
   "source": [
    "sqrt(my_BMI)"
   ]
  },
  {
   "cell_type": "code",
   "execution_count": 16,
   "metadata": {},
   "outputs": [],
   "source": [
    "import math as mt"
   ]
  },
  {
   "cell_type": "code",
   "execution_count": 17,
   "metadata": {},
   "outputs": [
    {
     "data": {
      "text/plain": [
       "5.374856382691881"
      ]
     },
     "execution_count": 17,
     "metadata": {},
     "output_type": "execute_result"
    }
   ],
   "source": [
    "mt.sqrt(my_BMI)"
   ]
  },
  {
   "cell_type": "code",
   "execution_count": 18,
   "metadata": {},
   "outputs": [
    {
     "data": {
      "text/plain": [
       "5.374856382691881"
      ]
     },
     "execution_count": 18,
     "metadata": {},
     "output_type": "execute_result"
    }
   ],
   "source": [
    "my_BMI**0.5"
   ]
  },
  {
   "cell_type": "code",
   "execution_count": 19,
   "metadata": {},
   "outputs": [
    {
     "data": {
      "text/plain": [
       "5.4"
      ]
     },
     "execution_count": 19,
     "metadata": {},
     "output_type": "execute_result"
    }
   ],
   "source": [
    "round(mt.sqrt(my_BMI),1)"
   ]
  },
  {
   "cell_type": "markdown",
   "metadata": {},
   "source": [
    "# Introduction to conditions"
   ]
  },
  {
   "cell_type": "code",
   "execution_count": 20,
   "metadata": {},
   "outputs": [
    {
     "name": "stdout",
     "output_type": "stream",
     "text": [
      "Obese\n"
     ]
    }
   ],
   "source": [
    "if my_BMI < 25:\n",
    "        print (\"Not Obese\")\n",
    "else:\n",
    "        print (\"Obese\")"
   ]
  },
  {
   "cell_type": "markdown",
   "metadata": {},
   "source": [
    "# Print Not HEalthy when BMI <18, if BMI is between 18 and 25 then print not obese, and when BMI is greater than 25, then print obese"
   ]
  },
  {
   "cell_type": "code",
   "execution_count": 21,
   "metadata": {},
   "outputs": [
    {
     "name": "stdout",
     "output_type": "stream",
     "text": [
      "obese\n"
     ]
    }
   ],
   "source": [
    "if my_BMI < 18:\n",
    "    print (\"Not Healthy\")\n",
    "else:\n",
    "    if my_BMI < 25:\n",
    "        print (\"Not obese\")\n",
    "    else:\n",
    "        print (\"obese\")"
   ]
  },
  {
   "cell_type": "code",
   "execution_count": 22,
   "metadata": {},
   "outputs": [],
   "source": [
    "import random"
   ]
  },
  {
   "cell_type": "code",
   "execution_count": 23,
   "metadata": {},
   "outputs": [
    {
     "data": {
      "text/plain": [
       "1"
      ]
     },
     "execution_count": 23,
     "metadata": {},
     "output_type": "execute_result"
    }
   ],
   "source": [
    "random.randint(1,6)"
   ]
  },
  {
   "cell_type": "code",
   "execution_count": 24,
   "metadata": {},
   "outputs": [
    {
     "name": "stdout",
     "output_type": "stream",
     "text": [
      "Even\n"
     ]
    }
   ],
   "source": [
    "\n",
    "if (random.randint(1,6) % 2) == 0:\n",
    "    print (\"Even\")\n",
    "else:\n",
    "        print (\"Odd\")"
   ]
  },
  {
   "cell_type": "code",
   "execution_count": 25,
   "metadata": {},
   "outputs": [
    {
     "name": "stdout",
     "output_type": "stream",
     "text": [
      "6 is Even\n"
     ]
    }
   ],
   "source": [
    "x = random.randint(1,6)\n",
    "if (x % 2) == 0:\n",
    "    print (f\"{x} is Even\")\n",
    "else:\n",
    "        print (f\"{x} is Odd\")"
   ]
  },
  {
   "cell_type": "code",
   "execution_count": 26,
   "metadata": {},
   "outputs": [
    {
     "name": "stdout",
     "output_type": "stream",
     "text": [
      "3 is Odd\n"
     ]
    }
   ],
   "source": [
    "x = random.randint(1,6)\n",
    "if (x % 2) == 0:\n",
    "    print (f\"{x} is Even\")\n",
    "else:\n",
    "        print (f\"{x} is Odd\")"
   ]
  },
  {
   "cell_type": "code",
   "execution_count": 27,
   "metadata": {},
   "outputs": [
    {
     "name": "stdout",
     "output_type": "stream",
     "text": [
      "2 is Even\n"
     ]
    }
   ],
   "source": [
    "x = random.randint(1,6)\n",
    "if (x % 2) == 0:\n",
    "    print (f\"{x} is Even\")\n",
    "else:\n",
    "        print (f\"{x} is Odd\")"
   ]
  },
  {
   "cell_type": "code",
   "execution_count": 28,
   "metadata": {},
   "outputs": [
    {
     "name": "stdout",
     "output_type": "stream",
     "text": [
      "2 is Even\n"
     ]
    }
   ],
   "source": [
    "x = random.randint(1,6)\n",
    "if (x % 2) == 0:\n",
    "    print (f\"{x} is Even\")\n",
    "else:\n",
    "        print (f\"{x} is Odd\")"
   ]
  },
  {
   "cell_type": "code",
   "execution_count": 29,
   "metadata": {},
   "outputs": [
    {
     "name": "stdout",
     "output_type": "stream",
     "text": [
      "3 is Odd\n"
     ]
    }
   ],
   "source": [
    "x = random.randint(1,6)\n",
    "if (x % 2) == 0:\n",
    "    print (f\"{x} is Even\")\n",
    "else:\n",
    "        print (f\"{x} is Odd\")"
   ]
  },
  {
   "cell_type": "code",
   "execution_count": 31,
   "metadata": {},
   "outputs": [
    {
     "name": "stdout",
     "output_type": "stream",
     "text": [
      "5 is Odd\n"
     ]
    }
   ],
   "source": [
    "x = random.randint(1,6)\n",
    "if (x % 2) == 0:\n",
    "    print (f\"{x} is Even\")\n",
    "else:\n",
    "        print (f\"{x} is Odd\")"
   ]
  },
  {
   "cell_type": "code",
   "execution_count": 32,
   "metadata": {},
   "outputs": [
    {
     "name": "stdout",
     "output_type": "stream",
     "text": [
      "4 Four\n"
     ]
    }
   ],
   "source": [
    "x = random.randint(1,6)\n",
    "if (x == 1):\n",
    "    print (f\"{x} One\")\n",
    "else:\n",
    "    if (x == 2):\n",
    "        print (f\"{x} Two\")\n",
    "    else:\n",
    "        if (x == 3):\n",
    "            print (f\"{x} Three\")\n",
    "        else:\n",
    "            if (x == 4):\n",
    "                print (f\"{x} Four\")\n",
    "            else:\n",
    "                if (x == 5):\n",
    "                    print (f\"{x} Five\")\n",
    "                else:\n",
    "                    print (f\"{x} Six\")"
   ]
  },
  {
   "cell_type": "code",
   "execution_count": 33,
   "metadata": {},
   "outputs": [
    {
     "name": "stdout",
     "output_type": "stream",
     "text": [
      "4 Four\n"
     ]
    }
   ],
   "source": [
    "x = random.randint(1,6)\n",
    "if (x == 1):\n",
    "    print (f\"{x} One\")\n",
    "else:\n",
    "    if (x == 2):\n",
    "        print (f\"{x} Two\")\n",
    "    else:\n",
    "        if (x == 3):\n",
    "            print (f\"{x} Three\")\n",
    "        else:\n",
    "            if (x == 4):\n",
    "                print (f\"{x} Four\")\n",
    "            else:\n",
    "                if (x == 5):\n",
    "                    print (f\"{x} Five\")\n",
    "                else:\n",
    "                    print (f\"{x} Six\")"
   ]
  },
  {
   "cell_type": "code",
   "execution_count": 34,
   "metadata": {},
   "outputs": [
    {
     "name": "stdout",
     "output_type": "stream",
     "text": [
      "2 Two\n"
     ]
    }
   ],
   "source": [
    "x = random.randint(1,6)\n",
    "if (x == 1):\n",
    "    print (f\"{x} One\")\n",
    "else:\n",
    "    if (x == 2):\n",
    "        print (f\"{x} Two\")\n",
    "    else:\n",
    "        if (x == 3):\n",
    "            print (f\"{x} Three\")\n",
    "        else:\n",
    "            if (x == 4):\n",
    "                print (f\"{x} Four\")\n",
    "            else:\n",
    "                if (x == 5):\n",
    "                    print (f\"{x} Five\")\n",
    "                else:\n",
    "                    print (f\"{x} Six\")"
   ]
  },
  {
   "cell_type": "code",
   "execution_count": 35,
   "metadata": {},
   "outputs": [
    {
     "name": "stdout",
     "output_type": "stream",
     "text": [
      "3 Three\n"
     ]
    }
   ],
   "source": [
    "x = random.randint(1,6)\n",
    "if (x == 1):\n",
    "    print (f\"{x} One\")\n",
    "else:\n",
    "    if (x == 2):\n",
    "        print (f\"{x} Two\")\n",
    "    else:\n",
    "        if (x == 3):\n",
    "            print (f\"{x} Three\")\n",
    "        else:\n",
    "            if (x == 4):\n",
    "                print (f\"{x} Four\")\n",
    "            else:\n",
    "                if (x == 5):\n",
    "                    print (f\"{x} Five\")\n",
    "                else:\n",
    "                    print (f\"{x} Six\")"
   ]
  },
  {
   "cell_type": "code",
   "execution_count": 36,
   "metadata": {},
   "outputs": [
    {
     "name": "stdout",
     "output_type": "stream",
     "text": [
      "1 One\n"
     ]
    }
   ],
   "source": [
    "x = random.randint(1,6)\n",
    "if (x == 1):\n",
    "    print (f\"{x} One\")\n",
    "else:\n",
    "    if (x == 2):\n",
    "        print (f\"{x} Two\")\n",
    "    else:\n",
    "        if (x == 3):\n",
    "            print (f\"{x} Three\")\n",
    "        else:\n",
    "            if (x == 4):\n",
    "                print (f\"{x} Four\")\n",
    "            else:\n",
    "                if (x == 5):\n",
    "                    print (f\"{x} Five\")\n",
    "                else:\n",
    "                    print (f\"{x} Six\")"
   ]
  },
  {
   "cell_type": "code",
   "execution_count": 37,
   "metadata": {},
   "outputs": [
    {
     "data": {
      "text/plain": [
       "range(1, 10)"
      ]
     },
     "execution_count": 37,
     "metadata": {},
     "output_type": "execute_result"
    }
   ],
   "source": [
    "range (1,10)"
   ]
  },
  {
   "cell_type": "code",
   "execution_count": 38,
   "metadata": {},
   "outputs": [
    {
     "name": "stdout",
     "output_type": "stream",
     "text": [
      "1 2\n",
      "2 3\n",
      "3 4\n",
      "4 5\n",
      "5 6\n",
      "6 7\n",
      "7 8\n",
      "8 9\n",
      "9 10\n"
     ]
    }
   ],
   "source": [
    "for i in range(1,10):\n",
    "    print (i,i+1)"
   ]
  },
  {
   "cell_type": "code",
   "execution_count": 39,
   "metadata": {},
   "outputs": [
    {
     "name": "stdout",
     "output_type": "stream",
     "text": [
      "2 Even\n",
      "4 Even\n",
      "6 Even\n",
      "8 Even\n",
      "9 Odd\n"
     ]
    }
   ],
   "source": [
    "for m in range(1,10):\n",
    "    if (m%2) == 0:\n",
    "        print (m, \"Even\")\n",
    "else:\n",
    "        print (m, \"Odd\")"
   ]
  },
  {
   "cell_type": "markdown",
   "metadata": {},
   "source": [
    "# Homework"
   ]
  },
  {
   "cell_type": "markdown",
   "metadata": {},
   "source": [
    "# Do all(10) math functions on your phone\n",
    "# Print all number between 1 and 100, print, odd, even, and prime.\n",
    "# Fuzz Buzz exampleWrite a program that prints the numbers from 1 to 100.\n",
    "# But for multiples of three print “Fizz” instead of the number\n",
    "# and for the multiples of five print “Buzz”.\n",
    "# For numbers which are multiples of both three and five print “FizzBuzz”.\n"
   ]
  },
  {
   "cell_type": "code",
   "execution_count": 46,
   "metadata": {},
   "outputs": [],
   "source": [
    "a=10\n",
    "b=50"
   ]
  },
  {
   "cell_type": "code",
   "execution_count": 48,
   "metadata": {},
   "outputs": [
    {
     "name": "stdout",
     "output_type": "stream",
     "text": [
      "The sum of 10 and 50 is 60\n"
     ]
    }
   ],
   "source": [
    "print(f\"The sum of {a} and {b} is {a+b}\")"
   ]
  },
  {
   "cell_type": "code",
   "execution_count": 49,
   "metadata": {},
   "outputs": [
    {
     "name": "stdout",
     "output_type": "stream",
     "text": [
      "The differnece of 10 and 50 is -40\n"
     ]
    }
   ],
   "source": [
    "print(f\"The differnece of {a} and {b} is {a-b}\")"
   ]
  },
  {
   "cell_type": "code",
   "execution_count": 50,
   "metadata": {},
   "outputs": [
    {
     "name": "stdout",
     "output_type": "stream",
     "text": [
      "The product of 10 and 50 is 500\n"
     ]
    }
   ],
   "source": [
    "print(f\"The product of {a} and {b} is {a*b}\")"
   ]
  },
  {
   "cell_type": "code",
   "execution_count": 51,
   "metadata": {},
   "outputs": [
    {
     "name": "stdout",
     "output_type": "stream",
     "text": [
      "The division of 10 and 50 is 0.2\n"
     ]
    }
   ],
   "source": [
    "print(f\"The division of {a} and {b} is {a/b}\")"
   ]
  },
  {
   "cell_type": "code",
   "execution_count": 52,
   "metadata": {},
   "outputs": [
    {
     "name": "stdout",
     "output_type": "stream",
     "text": [
      "The square of 10 is 100 and the square of 50 is 2500\n"
     ]
    }
   ],
   "source": [
    "print(f\"The square of {a} is {a**2} and the square of {b} is {b**2}\")"
   ]
  },
  {
   "cell_type": "code",
   "execution_count": 53,
   "metadata": {},
   "outputs": [
    {
     "name": "stdout",
     "output_type": "stream",
     "text": [
      "The square root of 10 is 3.1622776601683795 and the square of 50 is 7.0710678118654755\n"
     ]
    }
   ],
   "source": [
    "print(f\"The square root of {a} is {mt.sqrt(a)} and the square of {b} is {mt.sqrt(b)}\")"
   ]
  },
  {
   "cell_type": "code",
   "execution_count": 54,
   "metadata": {},
   "outputs": [
    {
     "name": "stdout",
     "output_type": "stream",
     "text": [
      "The square root of 10 is 3.1623 and the square of 50 is 7.07\n"
     ]
    }
   ],
   "source": [
    "print(f\"The square root of {a} is {round(mt.sqrt(a),4)} and the square of {b} is {round(mt.sqrt(b),2)}\")"
   ]
  },
  {
   "cell_type": "code",
   "execution_count": 55,
   "metadata": {},
   "outputs": [
    {
     "name": "stdout",
     "output_type": "stream",
     "text": [
      "The cube of 10 is 1000 and the square of 50 is 125000\n"
     ]
    }
   ],
   "source": [
    "print(f\"The cube of {a} is {a**3} and the square of {b} is {b**3}\")"
   ]
  },
  {
   "cell_type": "code",
   "execution_count": 56,
   "metadata": {},
   "outputs": [
    {
     "name": "stdout",
     "output_type": "stream",
     "text": [
      "The Sine of 10 is -0.5440211108893698 and the Sine of 50 is -0.26237485370392877\n"
     ]
    }
   ],
   "source": [
    "print(f\"The Sine of {a} is {mt.sin(a)} and the Sine of {b} is {mt.sin(b)}\")"
   ]
  },
  {
   "cell_type": "code",
   "execution_count": 57,
   "metadata": {},
   "outputs": [
    {
     "name": "stdout",
     "output_type": "stream",
     "text": [
      "The Sine of 10 is -0.544 and the Sine of 50 is -0.26\n"
     ]
    }
   ],
   "source": [
    "print(f\"The Sine of {a} is {round(mt.sin(a),4)} and the Sine of {b} is {round(mt.sin(b),2)}\")"
   ]
  },
  {
   "cell_type": "code",
   "execution_count": 58,
   "metadata": {},
   "outputs": [
    {
     "name": "stdout",
     "output_type": "stream",
     "text": [
      "The CoSine of 10 is -0.8391 and the Sine of 50 is 0.96\n"
     ]
    }
   ],
   "source": [
    "print(f\"The CoSine of {a} is {round(mt.cos(a),4)} and the Sine of {b} is {round(mt.cos(b),2)}\")"
   ]
  },
  {
   "cell_type": "code",
   "execution_count": 59,
   "metadata": {},
   "outputs": [
    {
     "name": "stdout",
     "output_type": "stream",
     "text": [
      "The Tan of 10 is 0.6484 and the Sine of 50 is -0.27\n"
     ]
    }
   ],
   "source": [
    "print(f\"The Tan of {a} is {round(mt.tan(a),4)} and the Sine of {b} is {round(mt.tan(b),2)}\")"
   ]
  },
  {
   "cell_type": "code",
   "execution_count": 60,
   "metadata": {},
   "outputs": [
    {
     "name": "stdout",
     "output_type": "stream",
     "text": [
      "1\n",
      "2\n",
      "Fizz\n",
      "4\n",
      "Buzz\n",
      "Fizz\n",
      "7\n",
      "8\n",
      "Fizz\n",
      "Buzz\n",
      "11\n",
      "Fizz\n",
      "13\n",
      "14\n",
      "FizzBuzz\n",
      "16\n",
      "17\n",
      "Fizz\n",
      "19\n",
      "Buzz\n",
      "Fizz\n",
      "22\n",
      "23\n",
      "Fizz\n",
      "Buzz\n",
      "26\n",
      "Fizz\n",
      "28\n",
      "29\n",
      "FizzBuzz\n",
      "31\n",
      "32\n",
      "Fizz\n",
      "34\n",
      "Buzz\n",
      "Fizz\n",
      "37\n",
      "38\n",
      "Fizz\n",
      "Buzz\n",
      "41\n",
      "Fizz\n",
      "43\n",
      "44\n",
      "FizzBuzz\n",
      "46\n",
      "47\n",
      "Fizz\n",
      "49\n",
      "Buzz\n",
      "Fizz\n",
      "52\n",
      "53\n",
      "Fizz\n",
      "Buzz\n",
      "56\n",
      "Fizz\n",
      "58\n",
      "59\n",
      "FizzBuzz\n",
      "61\n",
      "62\n",
      "Fizz\n",
      "64\n",
      "Buzz\n",
      "Fizz\n",
      "67\n",
      "68\n",
      "Fizz\n",
      "Buzz\n",
      "71\n",
      "Fizz\n",
      "73\n",
      "74\n",
      "FizzBuzz\n",
      "76\n",
      "77\n",
      "Fizz\n",
      "79\n",
      "Buzz\n",
      "Fizz\n",
      "82\n",
      "83\n",
      "Fizz\n",
      "Buzz\n",
      "86\n",
      "Fizz\n",
      "88\n",
      "89\n",
      "FizzBuzz\n",
      "91\n",
      "92\n",
      "Fizz\n",
      "94\n",
      "Buzz\n",
      "Fizz\n",
      "97\n",
      "98\n",
      "Fizz\n",
      "Buzz\n"
     ]
    }
   ],
   "source": [
    "for i in range (1, 101):\n",
    "    if (i % (3*5)) == 0:\n",
    "        print (\"FizzBuzz\")\n",
    "    else:\n",
    "        if (i % 3) == 0:\n",
    "            print (\"Fizz\")\n",
    "        else:\n",
    "            if (i % 5) == 0:\n",
    "                print (\"Buzz\")\n",
    "            else:\n",
    "                print (i)"
   ]
  },
  {
   "cell_type": "code",
   "execution_count": 61,
   "metadata": {},
   "outputs": [
    {
     "name": "stdout",
     "output_type": "stream",
     "text": [
      "1 Prime\n",
      "2 Even\n",
      "3 Prime\n",
      "4 Even\n",
      "5 Prime\n",
      "6 Even\n",
      "7 Prime\n",
      "8 Even\n",
      "9 Odd\n",
      "10 Even\n",
      "11 Prime\n",
      "12 Even\n",
      "13 Prime\n",
      "14 Even\n",
      "15 Odd\n",
      "16 Even\n",
      "17 Prime\n",
      "18 Even\n",
      "19 Prime\n",
      "20 Even\n",
      "21 Odd\n",
      "22 Even\n",
      "23 Prime\n",
      "24 Even\n",
      "25 Odd\n",
      "26 Even\n",
      "27 Odd\n",
      "28 Even\n",
      "29 Prime\n",
      "30 Even\n",
      "31 Prime\n",
      "32 Even\n",
      "33 Odd\n",
      "34 Even\n",
      "35 Odd\n",
      "36 Even\n",
      "37 Prime\n",
      "38 Even\n",
      "39 Odd\n",
      "40 Even\n",
      "41 Prime\n",
      "42 Even\n",
      "43 Prime\n",
      "44 Even\n",
      "45 Odd\n",
      "46 Even\n",
      "47 Prime\n",
      "48 Even\n",
      "49 Odd\n",
      "50 Even\n",
      "51 Odd\n",
      "52 Even\n",
      "53 Prime\n",
      "54 Even\n",
      "55 Odd\n",
      "56 Even\n",
      "57 Odd\n",
      "58 Even\n",
      "59 Prime\n",
      "60 Even\n",
      "61 Prime\n",
      "62 Even\n",
      "63 Odd\n",
      "64 Even\n",
      "65 Odd\n",
      "66 Even\n",
      "67 Prime\n",
      "68 Even\n",
      "69 Odd\n",
      "70 Even\n",
      "71 Prime\n",
      "72 Even\n",
      "73 Prime\n",
      "74 Even\n",
      "75 Odd\n",
      "76 Even\n",
      "77 Odd\n",
      "78 Even\n",
      "79 Prime\n",
      "80 Even\n",
      "81 Odd\n",
      "82 Even\n",
      "83 Prime\n",
      "84 Even\n",
      "85 Odd\n",
      "86 Even\n",
      "87 Odd\n",
      "88 Even\n",
      "89 Prime\n",
      "90 Even\n",
      "91 Odd\n",
      "92 Even\n",
      "93 Odd\n",
      "94 Even\n",
      "95 Odd\n",
      "96 Even\n",
      "97 Prime\n",
      "98 Even\n",
      "99 Odd\n",
      "100 Even\n"
     ]
    }
   ],
   "source": [
    "for i in range (1, 101):\n",
    "    if (i % 2) == 0:\n",
    "        print (i, \"Even\")\n",
    "    else:\n",
    "        prime = \"true\"\n",
    "        for j in range (2, i-1):\n",
    "            if (i % j) == 0:\n",
    "                prime = \"false\"\n",
    "                print (i, \"Odd\")\n",
    "                break\n",
    "        if (prime == \"true\"):\n",
    "            print (i, \"Prime\")"
   ]
  },
  {
   "cell_type": "code",
   "execution_count": null,
   "metadata": {},
   "outputs": [],
   "source": []
  }
 ],
 "metadata": {
  "kernelspec": {
   "display_name": "Python 3",
   "language": "python",
   "name": "python3"
  },
  "language_info": {
   "codemirror_mode": {
    "name": "ipython",
    "version": 3
   },
   "file_extension": ".py",
   "mimetype": "text/x-python",
   "name": "python",
   "nbconvert_exporter": "python",
   "pygments_lexer": "ipython3",
   "version": "3.7.0"
  }
 },
 "nbformat": 4,
 "nbformat_minor": 2
}
